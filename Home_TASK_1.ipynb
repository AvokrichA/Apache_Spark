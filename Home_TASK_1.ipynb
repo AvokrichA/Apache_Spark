{
  "nbformat": 4,
  "nbformat_minor": 0,
  "metadata": {
    "colab": {
      "provenance": [],
      "authorship_tag": "ABX9TyPJ/C7zMWBAneh8QEO9Qdq5",
      "include_colab_link": true
    },
    "kernelspec": {
      "name": "python3",
      "display_name": "Python 3"
    },
    "language_info": {
      "name": "python"
    }
  },
  "cells": [
    {
      "cell_type": "markdown",
      "metadata": {
        "id": "view-in-github",
        "colab_type": "text"
      },
      "source": [
        "<a href=\"https://colab.research.google.com/github/AvokrichA/Apache_Spark/blob/main/Home_TASK_1.ipynb\" target=\"_parent\"><img src=\"https://colab.research.google.com/assets/colab-badge.svg\" alt=\"Open In Colab\"/></a>"
      ]
    },
    {
      "cell_type": "markdown",
      "source": [
        "Найти самую длинную последовательность упорядоченных чисел в RDD и вывести её."
      ],
      "metadata": {
        "id": "omvC6vV5XOhc"
      }
    },
    {
      "cell_type": "code",
      "source": [
        "!pip install pyspark >> None"
      ],
      "metadata": {
        "id": "xhilZ8TD8qrF"
      },
      "execution_count": 2,
      "outputs": []
    },
    {
      "cell_type": "code",
      "execution_count": 3,
      "metadata": {
        "id": "mWrC450Q8j-z"
      },
      "outputs": [],
      "source": [
        "import pyspark\n",
        "from pyspark import SparkContext\n",
        "from pyspark.sql import SparkSession"
      ]
    },
    {
      "cell_type": "code",
      "source": [
        "numbers = [50, 20, 333, 150, -600, 84, 103, 65, 80, 3, 65, 6, 65, 65, 89, 658, 68765, 563, 1, 65321, 3532]\n",
        "arrange = []\n",
        "arr = [numbers[0]]\n",
        "for x in numbers[1:]:\n",
        "    if x >= arr[-1]:\n",
        "        arr .append(x)\n",
        "    else:\n",
        "        arrange.append(arr)\n",
        "        arr  = [x]\n",
        "if arr :\n",
        "    arrange.append(arr)\n",
        "\n",
        "print(arrange)\n"
      ],
      "metadata": {
        "colab": {
          "base_uri": "https://localhost:8080/"
        },
        "id": "tBc2_Ey5WVUk",
        "outputId": "1b9f3bbf-2a01-4431-8f79-0d3073ec373f"
      },
      "execution_count": 10,
      "outputs": [
        {
          "output_type": "stream",
          "name": "stdout",
          "text": [
            "[[50], [20, 333], [150], [-600, 84, 103], [65, 80], [3, 65], [6, 65, 65, 89, 658, 68765], [563], [1, 65321], [3532]]\n"
          ]
        }
      ]
    },
    {
      "cell_type": "code",
      "source": [
        "sc = SparkContext()\n",
        "rdd = sc.parallelize(arrange)\n",
        "long_arrange = rdd.max(key=lambda x: len(x))\n",
        "print(long_arrange)\n",
        "\n",
        "sc.stop()"
      ],
      "metadata": {
        "colab": {
          "base_uri": "https://localhost:8080/"
        },
        "id": "iYY_PEN7W9bL",
        "outputId": "c2bac9f2-d9c0-475e-c8cf-432e827115a5"
      },
      "execution_count": 11,
      "outputs": [
        {
          "output_type": "stream",
          "name": "stdout",
          "text": [
            "[6, 65, 65, 89, 658, 68765]\n"
          ]
        }
      ]
    }
  ]
}