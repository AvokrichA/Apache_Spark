{
  "nbformat": 4,
  "nbformat_minor": 0,
  "metadata": {
    "colab": {
      "provenance": [],
      "authorship_tag": "ABX9TyMDjbXhn5V3HfdBRtSMRFj6",
      "include_colab_link": true
    },
    "kernelspec": {
      "name": "python3",
      "display_name": "Python 3"
    },
    "language_info": {
      "name": "python"
    }
  },
  "cells": [
    {
      "cell_type": "markdown",
      "metadata": {
        "id": "view-in-github",
        "colab_type": "text"
      },
      "source": [
        "<a href=\"https://colab.research.google.com/github/AvokrichA/Apache_Spark/blob/main/Home_Task_5.ipynb\" target=\"_parent\"><img src=\"https://colab.research.google.com/assets/colab-badge.svg\" alt=\"Open In Colab\"/></a>"
      ]
    },
    {
      "cell_type": "markdown",
      "source": [
        "Условие: создайте csv файл с таким содержимым:\n",
        "\n",
        "title,author,genre,sales,year\n",
        "\n",
        "\"1984\", \"George Orwell\", \"Science Fiction\", 5000, 1949\n",
        "\n",
        "\"The Lord of the Rings\", \"J.R.R. Tolkien\", \"Fantasy\", 3000, 1954\n",
        "\n",
        "\"To Kill a Mockingbird\", \"Harper Lee\", \"Southern Gothic\", 4000, 1960\n",
        "\n",
        "\"The Catcher in the Rye\", \"J.D. Salinger\", \"Novel\", 2000, 1951\n",
        "\n",
        "\"The Great Gatsby\", \"F. Scott Fitzgerald\", \"Novel\", 4500, 1925\n",
        "\n",
        "Задание:\n",
        "\n",
        "— Используя Spark прочитайте данные из файла csv.\n",
        "— Фильтруйте данные, чтобы оставить только книги, продажи которых превышают 3000 экземпляров.\n",
        "— Сгруппируйте данные по жанру и вычислите общий объем продаж для каждого жанра.\n",
        "— Отсортируйте данные по общему объему продаж в порядке убывания.\n",
        "— Выведите результаты на экран."
      ],
      "metadata": {
        "id": "DpY2tpEykyat"
      }
    },
    {
      "cell_type": "code",
      "source": [
        "!pip install pyspark >> None"
      ],
      "metadata": {
        "id": "38Q9j2yplV86"
      },
      "execution_count": null,
      "outputs": []
    },
    {
      "cell_type": "code",
      "source": [
        "!python -m spylon_kernel install"
      ],
      "metadata": {
        "colab": {
          "base_uri": "https://localhost:8080/"
        },
        "id": "CkRC3jSrsKh-",
        "outputId": "d3d580d3-285c-4faa-e255-e33d0f45682c"
      },
      "execution_count": 20,
      "outputs": [
        {
          "output_type": "stream",
          "name": "stdout",
          "text": [
            "/usr/bin/python3: No module named spylon_kernel\n"
          ]
        }
      ]
    },
    {
      "cell_type": "markdown",
      "source": [],
      "metadata": {
        "id": "qv06HpcTvuww"
      }
    },
    {
      "cell_type": "code",
      "source": [
        "from google.colab import drive\n",
        "drive.mount('/content/gdrive')"
      ],
      "metadata": {
        "colab": {
          "base_uri": "https://localhost:8080/"
        },
        "id": "_JWaSqWMtRYN",
        "outputId": "5a3316c5-c0aa-4402-90a1-7bdfe3049a49"
      },
      "execution_count": 27,
      "outputs": [
        {
          "output_type": "stream",
          "name": "stdout",
          "text": [
            "Mounted at /content/gdrive\n"
          ]
        }
      ]
    },
    {
      "cell_type": "code",
      "source": [
        "from pyspark.sql import SparkSession\n",
        "from pyspark.sql.window import Window\n",
        "import pyspark.sql.functions as func\n",
        "from pyspark.sql.types import DoubleType"
      ],
      "metadata": {
        "id": "3-AaiwqJk6LT"
      },
      "execution_count": 28,
      "outputs": []
    },
    {
      "cell_type": "code",
      "source": [
        "spark = SparkSession.builder.appName(\"Home_Task_5\").getOrCreate()"
      ],
      "metadata": {
        "id": "tIRLTVp2mHzR"
      },
      "execution_count": 33,
      "outputs": []
    },
    {
      "cell_type": "markdown",
      "source": [
        "\n",
        "**Используя Spark прочитайте данные из файла csv**"
      ],
      "metadata": {
        "id": "bWJbTGcLvqvZ"
      }
    },
    {
      "cell_type": "code",
      "source": [
        "df = spark.read.option(\"header\",True).csv(\"gdrive/My Drive/Books_HT5_3.csv\")\n",
        "df.show()"
      ],
      "metadata": {
        "colab": {
          "base_uri": "https://localhost:8080/"
        },
        "id": "TCfuexK1mRHo",
        "outputId": "1b9e7a1c-b990-4428-c954-617c51bce9a0"
      },
      "execution_count": 46,
      "outputs": [
        {
          "output_type": "stream",
          "name": "stdout",
          "text": [
            "+--------------------+--------------------+--------------------+-----+------+\n",
            "|               title|              author|               genre|sales|  year|\n",
            "+--------------------+--------------------+--------------------+-----+------+\n",
            "|           \"\"\"1984\"\"|   \"\"George Orwell\"\"| \"\"Science Fiction\"\"| 5000| 1949\"|\n",
            "|\"\"\"The Lord of th...|  \"\"J.R.R. Tolkien\"\"|         \"\"Fantasy\"\"| 3000| 1954\"|\n",
            "|\"\"\"To Kill a Mock...|      \"\"Harper Lee\"\"| \"\"Southern Gothic\"\"| 4000| 1960\"|\n",
            "|\"\"\"The Catcher in...|   \"\"J.D. Salinger\"\"|           \"\"Novel\"\"| 2000| 1951\"|\n",
            "|\"\"\"The Great Gats...| \"\"F. Scott Fitzg...|           \"\"Novel\"\"| 4500| 1925\"|\n",
            "+--------------------+--------------------+--------------------+-----+------+\n",
            "\n"
          ]
        }
      ]
    },
    {
      "cell_type": "markdown",
      "source": [
        "**Фильтруйте данные, чтобы оставить только книги, продажи которых превышают 3000 экземпляров**"
      ],
      "metadata": {
        "id": "dNSrmL37vmW7"
      }
    },
    {
      "cell_type": "code",
      "source": [
        "df_filter = df.filter(df.sales > 3000)\n",
        "df_filter.show()"
      ],
      "metadata": {
        "colab": {
          "base_uri": "https://localhost:8080/"
        },
        "id": "jB0yd9yGvKQU",
        "outputId": "a9278490-b433-4828-b77a-3137ddbffcae"
      },
      "execution_count": 48,
      "outputs": [
        {
          "output_type": "stream",
          "name": "stdout",
          "text": [
            "+--------------------+--------------------+--------------------+-----+------+\n",
            "|               title|              author|               genre|sales|  year|\n",
            "+--------------------+--------------------+--------------------+-----+------+\n",
            "|           \"\"\"1984\"\"|   \"\"George Orwell\"\"| \"\"Science Fiction\"\"| 5000| 1949\"|\n",
            "|\"\"\"To Kill a Mock...|      \"\"Harper Lee\"\"| \"\"Southern Gothic\"\"| 4000| 1960\"|\n",
            "|\"\"\"The Great Gats...| \"\"F. Scott Fitzg...|           \"\"Novel\"\"| 4500| 1925\"|\n",
            "+--------------------+--------------------+--------------------+-----+------+\n",
            "\n"
          ]
        }
      ]
    },
    {
      "cell_type": "markdown",
      "source": [
        "**Сгруппируйте данные по жанру и вычислите общий объем продаж для каждого жанра.**"
      ],
      "metadata": {
        "id": "RXb8VcbJv9C4"
      }
    },
    {
      "cell_type": "code",
      "source": [
        "window_spec = Window.partitionBy(\"genre\")\n",
        "sale_genre = func.sum(\"sales\").over(window_spec)\n",
        "df_sale_genre = df.withColumn(\"sale_genre\", sale_genre)\n",
        "df_sale_genre.show()"
      ],
      "metadata": {
        "colab": {
          "base_uri": "https://localhost:8080/"
        },
        "id": "sasqzQwGv_LE",
        "outputId": "31779fee-63f0-4269-b1ff-4169a5b2df2a"
      },
      "execution_count": 56,
      "outputs": [
        {
          "output_type": "stream",
          "name": "stdout",
          "text": [
            "+--------------------+--------------------+--------------------+-----+------+----------+\n",
            "|               title|              author|               genre|sales|  year|sale_genre|\n",
            "+--------------------+--------------------+--------------------+-----+------+----------+\n",
            "|\"\"\"The Lord of th...|  \"\"J.R.R. Tolkien\"\"|         \"\"Fantasy\"\"| 3000| 1954\"|    3000.0|\n",
            "|\"\"\"The Catcher in...|   \"\"J.D. Salinger\"\"|           \"\"Novel\"\"| 2000| 1951\"|    6500.0|\n",
            "|\"\"\"The Great Gats...| \"\"F. Scott Fitzg...|           \"\"Novel\"\"| 4500| 1925\"|    6500.0|\n",
            "|           \"\"\"1984\"\"|   \"\"George Orwell\"\"| \"\"Science Fiction\"\"| 5000| 1949\"|    5000.0|\n",
            "|\"\"\"To Kill a Mock...|      \"\"Harper Lee\"\"| \"\"Southern Gothic\"\"| 4000| 1960\"|    4000.0|\n",
            "+--------------------+--------------------+--------------------+-----+------+----------+\n",
            "\n"
          ]
        }
      ]
    },
    {
      "cell_type": "markdown",
      "source": [],
      "metadata": {
        "id": "BE5jGPeCw_Hv"
      }
    },
    {
      "cell_type": "markdown",
      "source": [
        "**Отсортируйте данные по общему объему продаж в порядке убывания**"
      ],
      "metadata": {
        "id": "1xgjJK5QxEKQ"
      }
    },
    {
      "cell_type": "code",
      "source": [
        "df_sale_genre.select([\"genre\", \"sale_genre\"]).distinct().orderBy(df_sale_genre.sale_genre.desc()).show()"
      ],
      "metadata": {
        "colab": {
          "base_uri": "https://localhost:8080/"
        },
        "id": "WPLEvMtgwOOG",
        "outputId": "9b6d6448-ae15-44d8-cbed-4b426ee16354"
      },
      "execution_count": 62,
      "outputs": [
        {
          "output_type": "stream",
          "name": "stdout",
          "text": [
            "+--------------------+----------+\n",
            "|               genre|sale_genre|\n",
            "+--------------------+----------+\n",
            "|           \"\"Novel\"\"|    6500.0|\n",
            "| \"\"Science Fiction\"\"|    5000.0|\n",
            "| \"\"Southern Gothic\"\"|    4000.0|\n",
            "|         \"\"Fantasy\"\"|    3000.0|\n",
            "+--------------------+----------+\n",
            "\n"
          ]
        }
      ]
    }
  ]
}